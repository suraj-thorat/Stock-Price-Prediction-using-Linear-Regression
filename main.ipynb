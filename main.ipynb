{
 "cells": [
  {
   "cell_type": "code",
   "execution_count": 1,
   "metadata": {},
   "outputs": [],
   "source": [
    "import numpy as np\n",
    "import pandas as pd\n",
    "from sklearn import preprocessing\n",
    "from sklearn import metrics\n",
    "from sklearn.model_selection import train_test_split\n",
    "from sklearn.linear_model import LinearRegression\n",
    "import matplotlib.pyplot as plt"
   ]
  },
  {
   "cell_type": "code",
   "execution_count": 2,
   "metadata": {},
   "outputs": [],
   "source": [
    "data = pd.read_csv(\"AAPL.csv\")"
   ]
  },
  {
   "cell_type": "code",
   "execution_count": 3,
   "metadata": {},
   "outputs": [
    {
     "data": {
      "text/html": [
       "<div>\n",
       "<style scoped>\n",
       "    .dataframe tbody tr th:only-of-type {\n",
       "        vertical-align: middle;\n",
       "    }\n",
       "\n",
       "    .dataframe tbody tr th {\n",
       "        vertical-align: top;\n",
       "    }\n",
       "\n",
       "    .dataframe thead th {\n",
       "        text-align: right;\n",
       "    }\n",
       "</style>\n",
       "<table border=\"1\" class=\"dataframe\">\n",
       "  <thead>\n",
       "    <tr style=\"text-align: right;\">\n",
       "      <th></th>\n",
       "      <th>Date</th>\n",
       "      <th>Open</th>\n",
       "      <th>High</th>\n",
       "      <th>Low</th>\n",
       "      <th>Close</th>\n",
       "      <th>Adj Close</th>\n",
       "      <th>Volume</th>\n",
       "    </tr>\n",
       "  </thead>\n",
       "  <tbody>\n",
       "    <tr>\n",
       "      <th>0</th>\n",
       "      <td>1980-12-12</td>\n",
       "      <td>0.128348</td>\n",
       "      <td>0.128906</td>\n",
       "      <td>0.128348</td>\n",
       "      <td>0.128348</td>\n",
       "      <td>0.100178</td>\n",
       "      <td>469033600</td>\n",
       "    </tr>\n",
       "    <tr>\n",
       "      <th>1</th>\n",
       "      <td>1980-12-15</td>\n",
       "      <td>0.122210</td>\n",
       "      <td>0.122210</td>\n",
       "      <td>0.121652</td>\n",
       "      <td>0.121652</td>\n",
       "      <td>0.094952</td>\n",
       "      <td>175884800</td>\n",
       "    </tr>\n",
       "    <tr>\n",
       "      <th>2</th>\n",
       "      <td>1980-12-16</td>\n",
       "      <td>0.113281</td>\n",
       "      <td>0.113281</td>\n",
       "      <td>0.112723</td>\n",
       "      <td>0.112723</td>\n",
       "      <td>0.087983</td>\n",
       "      <td>105728000</td>\n",
       "    </tr>\n",
       "    <tr>\n",
       "      <th>3</th>\n",
       "      <td>1980-12-17</td>\n",
       "      <td>0.115513</td>\n",
       "      <td>0.116071</td>\n",
       "      <td>0.115513</td>\n",
       "      <td>0.115513</td>\n",
       "      <td>0.090160</td>\n",
       "      <td>86441600</td>\n",
       "    </tr>\n",
       "    <tr>\n",
       "      <th>4</th>\n",
       "      <td>1980-12-18</td>\n",
       "      <td>0.118862</td>\n",
       "      <td>0.119420</td>\n",
       "      <td>0.118862</td>\n",
       "      <td>0.118862</td>\n",
       "      <td>0.092774</td>\n",
       "      <td>73449600</td>\n",
       "    </tr>\n",
       "  </tbody>\n",
       "</table>\n",
       "</div>"
      ],
      "text/plain": [
       "         Date      Open      High       Low     Close  Adj Close     Volume\n",
       "0  1980-12-12  0.128348  0.128906  0.128348  0.128348   0.100178  469033600\n",
       "1  1980-12-15  0.122210  0.122210  0.121652  0.121652   0.094952  175884800\n",
       "2  1980-12-16  0.113281  0.113281  0.112723  0.112723   0.087983  105728000\n",
       "3  1980-12-17  0.115513  0.116071  0.115513  0.115513   0.090160   86441600\n",
       "4  1980-12-18  0.118862  0.119420  0.118862  0.118862   0.092774   73449600"
      ]
     },
     "execution_count": 3,
     "metadata": {},
     "output_type": "execute_result"
    }
   ],
   "source": [
    "data.head()"
   ]
  },
  {
   "cell_type": "code",
   "execution_count": 4,
   "metadata": {},
   "outputs": [
    {
     "name": "stdout",
     "output_type": "stream",
     "text": [
      "<class 'pandas.core.frame.DataFrame'>\n",
      "RangeIndex: 10468 entries, 0 to 10467\n",
      "Data columns (total 7 columns):\n",
      " #   Column     Non-Null Count  Dtype  \n",
      "---  ------     --------------  -----  \n",
      " 0   Date       10468 non-null  object \n",
      " 1   Open       10468 non-null  float64\n",
      " 2   High       10468 non-null  float64\n",
      " 3   Low        10468 non-null  float64\n",
      " 4   Close      10468 non-null  float64\n",
      " 5   Adj Close  10468 non-null  float64\n",
      " 6   Volume     10468 non-null  int64  \n",
      "dtypes: float64(5), int64(1), object(1)\n",
      "memory usage: 572.6+ KB\n"
     ]
    }
   ],
   "source": [
    "data.info()"
   ]
  },
  {
   "cell_type": "code",
   "execution_count": 5,
   "metadata": {},
   "outputs": [
    {
     "data": {
      "text/html": [
       "<div>\n",
       "<style scoped>\n",
       "    .dataframe tbody tr th:only-of-type {\n",
       "        vertical-align: middle;\n",
       "    }\n",
       "\n",
       "    .dataframe tbody tr th {\n",
       "        vertical-align: top;\n",
       "    }\n",
       "\n",
       "    .dataframe thead th {\n",
       "        text-align: right;\n",
       "    }\n",
       "</style>\n",
       "<table border=\"1\" class=\"dataframe\">\n",
       "  <thead>\n",
       "    <tr style=\"text-align: right;\">\n",
       "      <th></th>\n",
       "      <th>Open</th>\n",
       "      <th>High</th>\n",
       "      <th>Low</th>\n",
       "      <th>Close</th>\n",
       "      <th>Adj Close</th>\n",
       "      <th>Volume</th>\n",
       "    </tr>\n",
       "  </thead>\n",
       "  <tbody>\n",
       "    <tr>\n",
       "      <th>count</th>\n",
       "      <td>10468.000000</td>\n",
       "      <td>10468.000000</td>\n",
       "      <td>10468.000000</td>\n",
       "      <td>10468.000000</td>\n",
       "      <td>10468.000000</td>\n",
       "      <td>1.046800e+04</td>\n",
       "    </tr>\n",
       "    <tr>\n",
       "      <th>mean</th>\n",
       "      <td>14.757987</td>\n",
       "      <td>14.921491</td>\n",
       "      <td>14.594484</td>\n",
       "      <td>14.763533</td>\n",
       "      <td>14.130431</td>\n",
       "      <td>3.308489e+08</td>\n",
       "    </tr>\n",
       "    <tr>\n",
       "      <th>std</th>\n",
       "      <td>31.914174</td>\n",
       "      <td>32.289158</td>\n",
       "      <td>31.543959</td>\n",
       "      <td>31.929489</td>\n",
       "      <td>31.637275</td>\n",
       "      <td>3.388418e+08</td>\n",
       "    </tr>\n",
       "    <tr>\n",
       "      <th>min</th>\n",
       "      <td>0.049665</td>\n",
       "      <td>0.049665</td>\n",
       "      <td>0.049107</td>\n",
       "      <td>0.049107</td>\n",
       "      <td>0.038329</td>\n",
       "      <td>0.000000e+00</td>\n",
       "    </tr>\n",
       "    <tr>\n",
       "      <th>25%</th>\n",
       "      <td>0.283482</td>\n",
       "      <td>0.289286</td>\n",
       "      <td>0.276786</td>\n",
       "      <td>0.283482</td>\n",
       "      <td>0.235462</td>\n",
       "      <td>1.237768e+08</td>\n",
       "    </tr>\n",
       "    <tr>\n",
       "      <th>50%</th>\n",
       "      <td>0.474107</td>\n",
       "      <td>0.482768</td>\n",
       "      <td>0.465960</td>\n",
       "      <td>0.475446</td>\n",
       "      <td>0.392373</td>\n",
       "      <td>2.181592e+08</td>\n",
       "    </tr>\n",
       "    <tr>\n",
       "      <th>75%</th>\n",
       "      <td>14.953303</td>\n",
       "      <td>15.057143</td>\n",
       "      <td>14.692589</td>\n",
       "      <td>14.901964</td>\n",
       "      <td>12.835269</td>\n",
       "      <td>4.105794e+08</td>\n",
       "    </tr>\n",
       "    <tr>\n",
       "      <th>max</th>\n",
       "      <td>182.630005</td>\n",
       "      <td>182.940002</td>\n",
       "      <td>179.119995</td>\n",
       "      <td>182.009995</td>\n",
       "      <td>181.511703</td>\n",
       "      <td>7.421641e+09</td>\n",
       "    </tr>\n",
       "  </tbody>\n",
       "</table>\n",
       "</div>"
      ],
      "text/plain": [
       "               Open          High           Low         Close     Adj Close  \\\n",
       "count  10468.000000  10468.000000  10468.000000  10468.000000  10468.000000   \n",
       "mean      14.757987     14.921491     14.594484     14.763533     14.130431   \n",
       "std       31.914174     32.289158     31.543959     31.929489     31.637275   \n",
       "min        0.049665      0.049665      0.049107      0.049107      0.038329   \n",
       "25%        0.283482      0.289286      0.276786      0.283482      0.235462   \n",
       "50%        0.474107      0.482768      0.465960      0.475446      0.392373   \n",
       "75%       14.953303     15.057143     14.692589     14.901964     12.835269   \n",
       "max      182.630005    182.940002    179.119995    182.009995    181.511703   \n",
       "\n",
       "             Volume  \n",
       "count  1.046800e+04  \n",
       "mean   3.308489e+08  \n",
       "std    3.388418e+08  \n",
       "min    0.000000e+00  \n",
       "25%    1.237768e+08  \n",
       "50%    2.181592e+08  \n",
       "75%    4.105794e+08  \n",
       "max    7.421641e+09  "
      ]
     },
     "execution_count": 5,
     "metadata": {},
     "output_type": "execute_result"
    }
   ],
   "source": [
    "data.describe()"
   ]
  },
  {
   "cell_type": "code",
   "execution_count": 6,
   "metadata": {},
   "outputs": [],
   "source": [
    "X = data[['High','Low','Open','Volume']].values\n",
    "y = data['Close'].values"
   ]
  },
  {
   "cell_type": "code",
   "execution_count": 7,
   "metadata": {},
   "outputs": [
    {
     "data": {
      "text/plain": [
       "array([[1.28906000e-01, 1.28348000e-01, 1.28348000e-01, 4.69033600e+08],\n",
       "       [1.22210000e-01, 1.21652000e-01, 1.22210000e-01, 1.75884800e+08],\n",
       "       [1.13281000e-01, 1.12723000e-01, 1.13281000e-01, 1.05728000e+08],\n",
       "       ...,\n",
       "       [1.37339996e+02, 1.32160004e+02, 1.34289993e+02, 9.15330000e+07],\n",
       "       [1.32389999e+02, 1.29039993e+02, 1.32080002e+02, 1.08123900e+08],\n",
       "       [1.33080002e+02, 1.29809998e+02, 1.30070007e+02, 1.34118500e+08]])"
      ]
     },
     "execution_count": 7,
     "metadata": {},
     "output_type": "execute_result"
    }
   ],
   "source": [
    "X"
   ]
  },
  {
   "cell_type": "code",
   "execution_count": 8,
   "metadata": {},
   "outputs": [
    {
     "data": {
      "text/plain": [
       "array([1.28348000e-01, 1.21652000e-01, 1.12723000e-01, ...,\n",
       "       1.35429993e+02, 1.30059998e+02, 1.31559998e+02])"
      ]
     },
     "execution_count": 8,
     "metadata": {},
     "output_type": "execute_result"
    }
   ],
   "source": [
    "y"
   ]
  },
  {
   "cell_type": "code",
   "execution_count": 9,
   "metadata": {},
   "outputs": [],
   "source": [
    "X_train, X_test, y_train, y_test = train_test_split(X,y, test_size=0.3, random_state=1)"
   ]
  },
  {
   "cell_type": "code",
   "execution_count": 10,
   "metadata": {},
   "outputs": [
    {
     "name": "stdout",
     "output_type": "stream",
     "text": [
      "[ 8.36552631e-01  7.73402300e-01 -6.10500516e-01  3.90620869e-12]\n",
      "0.0008095613312235628\n"
     ]
    }
   ],
   "source": [
    "regressor = LinearRegression()\n",
    "regressor.fit(X_train, y_train)\n",
    "print(regressor.coef_)\n",
    "print(regressor.intercept_)"
   ]
  },
  {
   "cell_type": "code",
   "execution_count": 11,
   "metadata": {},
   "outputs": [
    {
     "name": "stdout",
     "output_type": "stream",
     "text": [
      "[0.38934549 0.36954658 0.22756485 ... 0.13242307 0.59556131 1.36574001]\n"
     ]
    }
   ],
   "source": [
    "predicted = regressor.predict(X_test)\n",
    "print(predicted)"
   ]
  },
  {
   "cell_type": "code",
   "execution_count": 12,
   "metadata": {},
   "outputs": [
    {
     "data": {
      "text/html": [
       "<div>\n",
       "<style scoped>\n",
       "    .dataframe tbody tr th:only-of-type {\n",
       "        vertical-align: middle;\n",
       "    }\n",
       "\n",
       "    .dataframe tbody tr th {\n",
       "        vertical-align: top;\n",
       "    }\n",
       "\n",
       "    .dataframe thead th {\n",
       "        text-align: right;\n",
       "    }\n",
       "</style>\n",
       "<table border=\"1\" class=\"dataframe\">\n",
       "  <thead>\n",
       "    <tr style=\"text-align: right;\">\n",
       "      <th></th>\n",
       "      <th>Actual</th>\n",
       "      <th>Predicted</th>\n",
       "    </tr>\n",
       "  </thead>\n",
       "  <tbody>\n",
       "    <tr>\n",
       "      <th>0</th>\n",
       "      <td>0.389509</td>\n",
       "      <td>0.389345</td>\n",
       "    </tr>\n",
       "    <tr>\n",
       "      <th>1</th>\n",
       "      <td>0.368304</td>\n",
       "      <td>0.369547</td>\n",
       "    </tr>\n",
       "    <tr>\n",
       "      <th>2</th>\n",
       "      <td>0.225446</td>\n",
       "      <td>0.227565</td>\n",
       "    </tr>\n",
       "    <tr>\n",
       "      <th>3</th>\n",
       "      <td>0.465536</td>\n",
       "      <td>0.467344</td>\n",
       "    </tr>\n",
       "    <tr>\n",
       "      <th>4</th>\n",
       "      <td>0.356585</td>\n",
       "      <td>0.361624</td>\n",
       "    </tr>\n",
       "    <tr>\n",
       "      <th>5</th>\n",
       "      <td>0.191964</td>\n",
       "      <td>0.195672</td>\n",
       "    </tr>\n",
       "    <tr>\n",
       "      <th>6</th>\n",
       "      <td>0.464286</td>\n",
       "      <td>0.476336</td>\n",
       "    </tr>\n",
       "    <tr>\n",
       "      <th>7</th>\n",
       "      <td>0.238839</td>\n",
       "      <td>0.239304</td>\n",
       "    </tr>\n",
       "    <tr>\n",
       "      <th>8</th>\n",
       "      <td>4.446071</td>\n",
       "      <td>4.399575</td>\n",
       "    </tr>\n",
       "    <tr>\n",
       "      <th>9</th>\n",
       "      <td>43.200001</td>\n",
       "      <td>43.371093</td>\n",
       "    </tr>\n",
       "    <tr>\n",
       "      <th>10</th>\n",
       "      <td>26.417500</td>\n",
       "      <td>26.405317</td>\n",
       "    </tr>\n",
       "    <tr>\n",
       "      <th>11</th>\n",
       "      <td>0.335714</td>\n",
       "      <td>0.335920</td>\n",
       "    </tr>\n",
       "    <tr>\n",
       "      <th>12</th>\n",
       "      <td>0.410714</td>\n",
       "      <td>0.418630</td>\n",
       "    </tr>\n",
       "    <tr>\n",
       "      <th>13</th>\n",
       "      <td>0.102679</td>\n",
       "      <td>0.104026</td>\n",
       "    </tr>\n",
       "    <tr>\n",
       "      <th>14</th>\n",
       "      <td>148.960007</td>\n",
       "      <td>148.583415</td>\n",
       "    </tr>\n",
       "    <tr>\n",
       "      <th>15</th>\n",
       "      <td>4.643214</td>\n",
       "      <td>4.684563</td>\n",
       "    </tr>\n",
       "    <tr>\n",
       "      <th>16</th>\n",
       "      <td>0.352679</td>\n",
       "      <td>0.358824</td>\n",
       "    </tr>\n",
       "    <tr>\n",
       "      <th>17</th>\n",
       "      <td>0.137277</td>\n",
       "      <td>0.139586</td>\n",
       "    </tr>\n",
       "    <tr>\n",
       "      <th>18</th>\n",
       "      <td>22.489643</td>\n",
       "      <td>22.530842</td>\n",
       "    </tr>\n",
       "    <tr>\n",
       "      <th>19</th>\n",
       "      <td>8.569643</td>\n",
       "      <td>8.552079</td>\n",
       "    </tr>\n",
       "  </tbody>\n",
       "</table>\n",
       "</div>"
      ],
      "text/plain": [
       "        Actual   Predicted\n",
       "0     0.389509    0.389345\n",
       "1     0.368304    0.369547\n",
       "2     0.225446    0.227565\n",
       "3     0.465536    0.467344\n",
       "4     0.356585    0.361624\n",
       "5     0.191964    0.195672\n",
       "6     0.464286    0.476336\n",
       "7     0.238839    0.239304\n",
       "8     4.446071    4.399575\n",
       "9    43.200001   43.371093\n",
       "10   26.417500   26.405317\n",
       "11    0.335714    0.335920\n",
       "12    0.410714    0.418630\n",
       "13    0.102679    0.104026\n",
       "14  148.960007  148.583415\n",
       "15    4.643214    4.684563\n",
       "16    0.352679    0.358824\n",
       "17    0.137277    0.139586\n",
       "18   22.489643   22.530842\n",
       "19    8.569643    8.552079"
      ]
     },
     "execution_count": 12,
     "metadata": {},
     "output_type": "execute_result"
    }
   ],
   "source": [
    "data1 = pd.DataFrame({'Actual': y_test.flatten(), 'Predicted' : predicted.flatten()})\n",
    "data1.head(20)"
   ]
  },
  {
   "cell_type": "code",
   "execution_count": 13,
   "metadata": {},
   "outputs": [
    {
     "name": "stdout",
     "output_type": "stream",
     "text": [
      "Mean Absolute Error: 0.07263421024659986\n",
      "Mean Squared Error: 0.059571193117487646\n",
      "Root Mean Squared Error: 0.24407210638966437\n"
     ]
    }
   ],
   "source": [
    "import math\n",
    "print('Mean Absolute Error:', metrics.mean_absolute_error(y_test,predicted))\n",
    "print('Mean Squared Error:', metrics.mean_squared_error(y_test,predicted))\n",
    "print('Root Mean Squared Error:', math.sqrt(metrics.mean_squared_error(y_test,predicted)))"
   ]
  },
  {
   "cell_type": "code",
   "execution_count": 20,
   "metadata": {},
   "outputs": [
    {
     "data": {
      "text/plain": [
       "<AxesSubplot:>"
      ]
     },
     "execution_count": 20,
     "metadata": {},
     "output_type": "execute_result"
    },
    {
     "data": {
      "image/png": "[encoded data removed]",
      "text/plain": [
       "<Figure size 432x288 with 1 Axes>"
      ]
     },
     "metadata": {
      "needs_background": "light"
     },
     "output_type": "display_data"
    }
   ],
   "source": [
    "graph = data1.head(25)\n",
    "graph.plot(kind='bar')"
   ]
  }
 ],
 "metadata": {
  "kernelspec": {
   "display_name": "Python 3.9.12 ('base')",
   "language": "python",
   "name": "python3"
  },
  "language_info": {
   "codemirror_mode": {
    "name": "ipython",
    "version": 3
   },
   "file_extension": ".py",
   "mimetype": "text/x-python",
   "name": "python",
   "nbconvert_exporter": "python",
   "pygments_lexer": "ipython3",
   "version": "3.9.12"
  },
  "orig_nbformat": 4,
  "vscode": {
   "interpreter": {
    "hash": "a90aeebcf29d64a654773811cc170cb25061cb2498f10ac689db374c7bf325de"
   }
  }
 },
 "nbformat": 4,
 "nbformat_minor": 2
}
